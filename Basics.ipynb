{
 "cells": [
  {
   "cell_type": "markdown",
   "metadata": {},
   "source": [
    "# Target market analysis"
   ]
  },
  {
   "cell_type": "markdown",
   "metadata": {},
   "source": [
    "Goal - Which are the two best markets to advertise?"
   ]
  },
  {
   "cell_type": "code",
   "execution_count": 1,
   "metadata": {
    "collapsed": false
   },
   "outputs": [],
   "source": [
    "%matplotlib inline\n",
    "import pandas as pd\n",
    "#import seaborn as sns\n",
    "import matplotlib.pyplot as plt\n",
    "\n",
    "pd.options.mode.chained_assignment = None\n",
    "\n",
    "#set pandas to see more columns and rows\n",
    "pd.options.display.max_columns = 150\n",
    "pd.options.display.max_rows = 150"
   ]
  },
  {
   "cell_type": "code",
   "execution_count": 2,
   "metadata": {
    "collapsed": false
   },
   "outputs": [],
   "source": [
    "data = pd.read_csv('2017-fCC-New-Coders-Survey-Data.csv', low_memory=False)"
   ]
  },
  {
   "cell_type": "code",
   "execution_count": 3,
   "metadata": {
    "collapsed": false
   },
   "outputs": [],
   "source": [
    "#data.shape\n",
    "#data.describe()\n",
    "#data.head(3).transpose()"
   ]
  },
  {
   "cell_type": "markdown",
   "metadata": {},
   "source": [
    "ROLE INTEREST ANALYSIS"
   ]
  },
  {
   "cell_type": "code",
   "execution_count": 4,
   "metadata": {
    "collapsed": false
   },
   "outputs": [],
   "source": [
    "#JobRoleInterest analysis \n",
    "#data['JobRoleInterest'].head(150)\n",
    "#data['JobRoleInterest'].value_counts(normalize=True, dropna=False) *100\n",
    "#data['JobRoleInterest'].value_counts(normalize=True) *100\n",
    "#data['JobRoleInterest'].isna().sum()\n",
    "\n",
    "#take data without NAN values - interested in something\n",
    "jobint_nonan =  data[data['JobRoleInterest'].notnull()]\n",
    "#jobint_nonan['JobRoleInterest'].head(100)"
   ]
  },
  {
   "cell_type": "code",
   "execution_count": 5,
   "metadata": {
    "collapsed": false
   },
   "outputs": [
    {
     "name": "stdout",
     "output_type": "stream",
     "text": [
      "1    31.650458\n",
      "3    15.889588\n",
      "4    15.217391\n",
      "5    12.042334\n",
      "2    10.883867\n",
      "Name: NumOfInterests, dtype: float64\n"
     ]
    },
    {
     "data": {
      "text/plain": [
       "<matplotlib.axes._subplots.AxesSubplot at 0x7fb0ff905da0>"
      ]
     },
     "execution_count": 5,
     "metadata": {},
     "output_type": "execute_result"
    },
    {
     "data": {
      "image/png": "[encoded data removed]",
      "text/plain": [
       "<matplotlib.figure.Figure at 0x7fb0ff905518>"
      ]
     },
     "metadata": {},
     "output_type": "display_data"
    }
   ],
   "source": [
    "#create column with number of interest of each respondant\n",
    "jobint_nonan['NumOfInterests'] = jobint_nonan['JobRoleInterest'].str.split(', ')\n",
    "jobint_nonan['NumOfInterests'] = jobint_nonan['NumOfInterests'].str.len()\n",
    "\n",
    "#number of interest of each respondant - relative table/ absolute graph\n",
    "print(jobint_nonan['NumOfInterests'].value_counts(normalize=True).head(5)*100)\n",
    "jobint_nonan['NumOfInterests'].value_counts().head(10).plot(kind='bar')\n"
   ]
  },
  {
   "cell_type": "code",
   "execution_count": 6,
   "metadata": {
    "collapsed": false
   },
   "outputs": [],
   "source": [
    "#filter who is interested in our fiels\n",
    "wanted_f = ['Web Developer', 'Mobile Developer']\n",
    "jobint_nonan['InterestUs'] = jobint_nonan['JobRoleInterest'].str.contains('|'.join(wanted_f))\n",
    "#jobint_nonan.head()"
   ]
  },
  {
   "cell_type": "code",
   "execution_count": 7,
   "metadata": {
    "collapsed": false,
    "scrolled": false
   },
   "outputs": [
    {
     "name": "stdout",
     "output_type": "stream",
     "text": [
      "True     86.241419\n",
      "False    13.758581\n",
      "Name: InterestUs, dtype: float64\n"
     ]
    },
    {
     "data": {
      "text/plain": [
       "<matplotlib.axes._subplots.AxesSubplot at 0x7fb0ff8df9b0>"
      ]
     },
     "execution_count": 7,
     "metadata": {},
     "output_type": "execute_result"
    },
    {
     "data": {
      "image/png": "[encoded data removed]",
      "text/plain": [
       "<matplotlib.figure.Figure at 0x7fb0ff8df2e8>"
      ]
     },
     "metadata": {},
     "output_type": "display_data"
    }
   ],
   "source": [
    "#number of respondents interested in our fiels - relative table/ absolute graph\n",
    "print(jobint_nonan['InterestUs'].value_counts(normalize=True)*100)\n",
    "jobint_nonan['InterestUs'].value_counts().plot(kind='bar')"
   ]
  },
  {
   "cell_type": "code",
   "execution_count": 8,
   "metadata": {
    "collapsed": false
   },
   "outputs": [
    {
     "name": "stdout",
     "output_type": "stream",
     "text": [
      "United States of America    45.340563\n",
      "India                        7.505930\n",
      "United Kingdom               4.761098\n",
      "Canada                       3.744493\n",
      "Poland                       2.050152\n",
      "Name: CountryLive, dtype: float64\n"
     ]
    },
    {
     "data": {
      "text/plain": [
       "<matplotlib.axes._subplots.AxesSubplot at 0x7fb0fe31d0f0>"
      ]
     },
     "execution_count": 8,
     "metadata": {},
     "output_type": "execute_result"
    },
    {
     "data": {
      "image/png": "[encoded data removed]",
      "text/plain": [
       "<matplotlib.figure.Figure at 0x7fb0fe3070f0>"
      ]
     },
     "metadata": {},
     "output_type": "display_data"
    }
   ],
   "source": [
    "#select only intereste in our fiels\n",
    "InterestUs = jobint_nonan[jobint_nonan['InterestUs'] == True]\n",
    "#InterestUs.shape\n",
    "\n",
    "#distribution of interested respondent in our fields over the countries - relative table/ absolute graph\n",
    "print(InterestUs['CountryLive'].value_counts(normalize = True).head(5)*100)\n",
    "InterestUs['CountryLive'].value_counts().head(5).plot(kind='Bar')  "
   ]
  },
  {
   "cell_type": "markdown",
   "metadata": {},
   "source": [
    "CONCLUSION - Based on simple  countries distribution of respondent interested in our field, United States of America and India shoudl be our TARGET MARKETS!"
   ]
  },
  {
   "cell_type": "markdown",
   "metadata": {},
   "source": [
    "MONEY SPEND FOR TEACHING ANALYSIS - ROLE INTEREST FILTER NOT INCLUDED"
   ]
  },
  {
   "cell_type": "code",
   "execution_count": 9,
   "metadata": {
    "collapsed": false
   },
   "outputs": [],
   "source": [
    "wanted_c = ['United States of America','India','United Kingdom','Canada']\n",
    "#data['MoneyForLearning'].value_counts()\n",
    "#data['MonthsProgramming'].value_counts()"
   ]
  },
  {
   "cell_type": "code",
   "execution_count": 10,
   "metadata": {
    "collapsed": false
   },
   "outputs": [],
   "source": [
    "#select rows where relevant columns does not contain NAN values\n",
    "money_nonan_1 = data[data['MoneyForLearning'].notna() & data['MonthsProgramming'].notna()]\n",
    "#replace 0 with 1 for deviding purposes\n",
    "money_nonan_1['MonthsProgramming'] = money_nonan_1['MonthsProgramming'].replace(0,1)\n",
    "#create new column MoneyPerMonth = money/month\n",
    "money_nonan_1['MoneyPerMonth'] = money_nonan_1['MoneyForLearning'] / money_nonan_1['MonthsProgramming']\n",
    "\n",
    "#money_nonan_1['MoneyPerMonth'].head(10)\n",
    "#money_nonan_1.shape\n",
    "\n",
    "#drop rows where CountryLive is NAN\n",
    "money_nonan_1 = money_nonan_1[money_nonan_1['CountryLive'].notna()]\n",
    "#money_nonan_1.shape"
   ]
  },
  {
   "cell_type": "code",
   "execution_count": 11,
   "metadata": {
    "collapsed": false
   },
   "outputs": [],
   "source": [
    "#check number od unique countries\n",
    "#print(len(money_nonan_1['CountryLive'].unique()))\n",
    "#print(money_nonan_1['CountryLive'].value_counts())\n",
    "\n",
    "#group by countries and sum MoneyPerMonth\n",
    "mean_by_country_1 = money_nonan_1[['MoneyPerMonth', 'CountryLive']].groupby(['CountryLive']).mean()\n",
    "#order by sum an select top 5\n",
    "#mean_by_country_1.sort_values(by=['MoneyPerMonth'], ascending = False).head()"
   ]
  },
  {
   "cell_type": "code",
   "execution_count": 12,
   "metadata": {
    "collapsed": false
   },
   "outputs": [],
   "source": [
    "#check particular countries\n",
    "#mean_by_country_1.loc[wanted_c, 'MoneyPerMonth']"
   ]
  },
  {
   "cell_type": "markdown",
   "metadata": {},
   "source": [
    "Result is probably influenced by outliers and number of respondents per country - many countries have low volume."
   ]
  },
  {
   "cell_type": "markdown",
   "metadata": {},
   "source": [
    "MONEY SPEND FOR TEACHING ANALYSIS - ROLE INTEREST FILTER INCLUDED"
   ]
  },
  {
   "cell_type": "code",
   "execution_count": 13,
   "metadata": {
    "collapsed": true
   },
   "outputs": [],
   "source": [
    "#select rows where relevant columns does not contain NAN values\n",
    "#we are working with InterestUs data - contains only intereseted respondents\n",
    "money_nonan_2 = InterestUs[InterestUs['MoneyForLearning'].notna() & InterestUs['MonthsProgramming'].notna()]\n",
    "#replace 0 with 1 for deviding purposes\n",
    "money_nonan_2['MonthsProgramming'] = money_nonan_2['MonthsProgramming'].replace(0,1)\n",
    "#create new column MoneyPerMonth = money/month\n",
    "money_nonan_2['MoneyPerMonth'] = money_nonan_2['MoneyForLearning'] / money_nonan_2['MonthsProgramming']\n",
    "\n",
    "#money_nonan_2['MoneyPerMonth'].head(10)\n",
    "#money_nonan_2.shape\n",
    "\n",
    "#drop rows where CountryLive is NAN\n",
    "money_nonan_2 = money_nonan_2[money_nonan_2['CountryLive'].notna()]\n",
    "#money_nonan.shape"
   ]
  },
  {
   "cell_type": "code",
   "execution_count": 14,
   "metadata": {
    "collapsed": false
   },
   "outputs": [
    {
     "name": "stdout",
     "output_type": "stream",
     "text": [
      "             MoneyPerMonth\n",
      "CountryLive               \n",
      "Yemen         10000.000000\n",
      "Puerto Rico    5005.436508\n",
      "Spain           949.046664\n",
      "Austria         936.208333\n",
      "Australia       511.439759\n",
      "                   MoneyPerMonth\n",
      "CountryLive                     \n",
      "Yemen                    10000.0\n",
      "Trinidad & Tobago          500.0\n",
      "Chile                      250.0\n",
      "Nicaragua                  150.0\n",
      "Somalia                    150.0\n"
     ]
    }
   ],
   "source": [
    "#check number od unique countries\n",
    "#print(len(money_nonan_2['CountryLive'].unique()))\n",
    "#print(money_nonan_2['CountryLive'].value_counts())\n",
    "\n",
    "#group by countries - MoneyPerMonth mode, mean, median\n",
    "mean_by_country_2 = money_nonan_2[['MoneyPerMonth', 'CountryLive']].groupby(['CountryLive']).mean()\n",
    "median_by_country_2 = money_nonan_2[['MoneyPerMonth', 'CountryLive']].groupby(['CountryLive']).median()\n",
    "#mode_by_country_2 = money_nonan_2[['MoneyPerMonth', 'CountryLive']].groupby(['CountryLive']).mode()\n",
    "\n",
    "#group by countries - MoneyPerMonth mode, mean, median - TOP VALUES\n",
    "print(mean_by_country_2.sort_values(by=['MoneyPerMonth'], ascending = False).head())\n",
    "print(median_by_country_2.sort_values(by=['MoneyPerMonth'], ascending = False).head())\n",
    "#mode_by_country_2.sort_values(by=['MoneyPerMonth'], ascending = False).head()"
   ]
  },
  {
   "cell_type": "code",
   "execution_count": 15,
   "metadata": {
    "collapsed": false
   },
   "outputs": [
    {
     "name": "stdout",
     "output_type": "stream",
     "text": [
      "CountryLive\n",
      "United States of America    249.521492\n",
      "India                       146.663700\n",
      "United Kingdom               49.117435\n",
      "Canada                      129.170946\n",
      "Name: MoneyPerMonth, dtype: float64\n",
      "CountryLive\n",
      "United States of America    4.166667\n",
      "India                       0.000000\n",
      "United Kingdom              0.250000\n",
      "Canada                      0.833333\n",
      "Name: MoneyPerMonth, dtype: float64\n"
     ]
    }
   ],
   "source": [
    "#check particular countries\n",
    "print(mean_by_country_2.loc[wanted_c, 'MoneyPerMonth'])\n",
    "print(median_by_country_2.loc[wanted_c, 'MoneyPerMonth'])\n",
    "#mode_by_country_2.loc[wanted_c, 'MoneyPerMonth']"
   ]
  },
  {
   "cell_type": "code",
   "execution_count": 16,
   "metadata": {
    "collapsed": false,
    "scrolled": false
   },
   "outputs": [
    {
     "data": {
      "image/png": "[encoded data removed]",
      "text/plain": [
       "<matplotlib.figure.Figure at 0x7fb0fe402048>"
      ]
     },
     "metadata": {},
     "output_type": "display_data"
    }
   ],
   "source": [
    "#data check\n",
    "#money_nonan_2[['CountryLive','MoneyForLearning','MonthsProgramming','MoneyPerMonth']].sort_values('MoneyPerMonth', ascending=False)\n",
    "\n",
    "graph_data = []\n",
    "max_for_yaxis = 0\n",
    "for country in wanted_c:\n",
    "    tmp_data = money_nonan_2['MoneyPerMonth'][money_nonan_2['CountryLive']==country]\n",
    "    graph_data.append(list(tmp_data))\n",
    "    if max_for_yaxis < max(tmp_data):\n",
    "        max_for_yaxis = max(tmp_data)\n",
    "\n",
    "plt.boxplot(graph_data)\n",
    "plt.xticks([1,2,3,4],wanted_c,rotation=90)\n",
    "plt.ylim(-5000,max_for_yaxis+5000)\n",
    "plt.show()"
   ]
  },
  {
   "cell_type": "markdown",
   "metadata": {},
   "source": [
    "MONEY SPEND FOR TEACHING ANALYSIS - ROLE INTEREST FILTER INCLUDED + OUTLIERS REMOVED + ONLY United States of America|India|United Kingdom|Canada"
   ]
  },
  {
   "cell_type": "code",
   "execution_count": 17,
   "metadata": {
    "collapsed": false,
    "scrolled": true
   },
   "outputs": [
    {
     "data": {
      "image/png": "[encoded data removed]",
      "text/plain": [
       "<matplotlib.figure.Figure at 0x7fb0fe402c18>"
      ]
     },
     "metadata": {},
     "output_type": "display_data"
    }
   ],
   "source": [
    "#separate required contries\n",
    "only_4 = money_nonan_2[money_nonan_2['CountryLive'].str.contains(\n",
    "    'United States of America|India|United Kingdom|Canada')]\n",
    "\n",
    "#print(only_4[['MoneyPerMonth', 'MoneyForLearning','MonthsProgramming']].sort_values('MoneyPerMonth', ascending=False))\n",
    "#remove outliers - not by interquartile range\n",
    "only_4 = only_4[only_4['MoneyPerMonth'] < 10000]\n",
    "\n",
    "graph_data = []\n",
    "max_for_yaxis = 0\n",
    "for country in wanted_c:\n",
    "    tmp_data = only_4['MoneyPerMonth'][only_4['CountryLive']==country]\n",
    "    graph_data.append(list(tmp_data))\n",
    "    if max_for_yaxis < max(tmp_data):\n",
    "        max_for_yaxis = max(tmp_data)\n",
    "\n",
    "plt.boxplot(graph_data)\n",
    "plt.xticks([1,2,3,4],wanted_c,rotation=90)\n",
    "plt.ylim(-5000,max_for_yaxis+5000)\n",
    "plt.show()\n",
    "    "
   ]
  },
  {
   "cell_type": "code",
   "execution_count": 18,
   "metadata": {
    "collapsed": false
   },
   "outputs": [],
   "source": [
    "# Remove the respondents who didn't attendent a bootcamp\n",
    "no_bootcamp = only_4[\n",
    "    (only_4['CountryLive'] == 'United States of America') & \n",
    "    (only_4['MoneyPerMonth'] >= 6000) &\n",
    "    (only_4['AttendedBootcamp'] == 0)]\n",
    "only_4 = only_4.drop(no_bootcamp.index)\n",
    "\n",
    "# Remove the respondents that had been programming for less than 3 months\n",
    "less_than_3_months = only_4[\n",
    "    (only_4['CountryLive'] == 'United States of America') & \n",
    "    (only_4['MoneyPerMonth'] >= 6000) &\n",
    "    (only_4['MonthsProgramming'] <= 3)]\n",
    "only_4 = only_4.drop(less_than_3_months.index)\n",
    "\n",
    "# Examine the extreme outliers for Canada\n",
    "canada_outliers = only_4[\n",
    "    (only_4['CountryLive'] == 'Canada') & \n",
    "    (only_4['MoneyPerMonth'] > 4500)]\n",
    "only_4 = only_4.drop(canada_outliers.index)\n",
    "\n",
    "# Inspect the extreme outliers for India\n",
    "india_outliers = only_4[\n",
    "    (only_4['CountryLive'] == 'India') & \n",
    "    (only_4['MoneyPerMonth'] >= 2500)]\n",
    "only_4 = only_4.drop(india_outliers.index)"
   ]
  },
  {
   "cell_type": "code",
   "execution_count": 20,
   "metadata": {
    "collapsed": false
   },
   "outputs": [
    {
     "data": {
      "text/plain": [
       "CountryLive\n",
       "Canada                      105.057931\n",
       "India                        64.958227\n",
       "United Kingdom               49.117435\n",
       "United States of America    153.605994\n",
       "Name: MoneyPerMonth, dtype: float64"
      ]
     },
     "execution_count": 20,
     "metadata": {},
     "output_type": "execute_result"
    }
   ],
   "source": [
    "# Recompute mean sum of money spent by students each month\n",
    "only_4.groupby('CountryLive').mean()['MoneyPerMonth']"
   ]
  },
  {
   "cell_type": "code",
   "execution_count": 21,
   "metadata": {
    "collapsed": false
   },
   "outputs": [
    {
     "data": {
      "text/plain": [
       "United States of America    74.970060\n",
       "India                       11.586826\n",
       "United Kingdom               7.395210\n",
       "Canada                       6.047904\n",
       "Name: CountryLive, dtype: float64"
      ]
     },
     "execution_count": 21,
     "metadata": {},
     "output_type": "execute_result"
    }
   ],
   "source": [
    "# Frequency table for the 'CountryLive' column\n",
    "only_4['CountryLive'].value_counts(normalize = True) * 100"
   ]
  },
  {
   "cell_type": "markdown",
   "metadata": {},
   "source": [
    "CONCLUSION - Best markets for our advertisement should by USA and Canada. India can be also considered."
   ]
  }
 ],
 "metadata": {
  "kernelspec": {
   "display_name": "Python 3",
   "language": "python",
   "name": "python3"
  },
  "language_info": {
   "codemirror_mode": {
    "name": "ipython",
    "version": 3
   },
   "file_extension": ".py",
   "mimetype": "text/x-python",
   "name": "python",
   "nbconvert_exporter": "python",
   "pygments_lexer": "ipython3",
   "version": "3.4.3"
  }
 },
 "nbformat": 4,
 "nbformat_minor": 2
}
